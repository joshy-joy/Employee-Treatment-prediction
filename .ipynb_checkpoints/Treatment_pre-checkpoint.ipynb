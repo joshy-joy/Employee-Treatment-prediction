{
 "cells": [
  {
   "cell_type": "code",
   "execution_count": 1,
   "metadata": {},
   "outputs": [
    {
     "name": "stderr",
     "output_type": "stream",
     "text": [
      "Using TensorFlow backend.\n"
     ]
    }
   ],
   "source": [
    "import os \n",
    "import csv \n",
    "import random\n",
    "import statsmodels.api as sm\n",
    "import statsmodels.formula.api as smf\n",
    "\n",
    "import numpy as np\n",
    "import pandas as pd\n",
    "import matplotlib as pt\n",
    "\n",
    "from sklearn.model_selection import train_test_split\n",
    "from sklearn.model_selection import cross_val_score\n",
    "from sklearn.linear_model import LogisticRegression\n",
    "from sklearn.ensemble import ExtraTreesClassifier\n",
    "from sklearn.preprocessing import MinMaxScaler  \n",
    "from sklearn.metrics import confusion_matrix\n",
    "\n",
    "import xgboost as xgb\n",
    "from xgboost.sklearn import XGBClassifier\n",
    "\n",
    "from keras.models import Sequential\n",
    "from keras.layers import Dense\n",
    "from keras.regularizers import L1L2\n"
   ]
  },
  {
   "cell_type": "markdown",
   "metadata": {},
   "source": [
    "# Importing Data"
   ]
  },
  {
   "cell_type": "code",
   "execution_count": 2,
   "metadata": {},
   "outputs": [],
   "source": [
    "dtypes = {\n",
    "    's.no':'int64',\n",
    "    'Timestamp':'object',\n",
    "    'Age' : 'float64',\n",
    "    'Gender' : 'category',\n",
    "    'Country' : 'category',\n",
    "    'state' : 'category',\n",
    "    'self_employed' : 'category',\n",
    "    'family_history' : 'category',\n",
    "    'treatment' : 'category',\n",
    "    'work_interfere' : 'category',\n",
    "    'no_employees' : 'category',\n",
    "    'remote_work' : 'category',\n",
    "    'tech_company' : 'category',\n",
    "    'benefits' : 'category',\n",
    "    'care_options' : 'category',\n",
    "    'wellness_program' : 'category',\n",
    "    'seek_help' : 'category',\n",
    "    'anonymity' : 'category',\n",
    "    'leave' : 'category',\n",
    "    'mental_health_consequence' : 'category',\n",
    "    'phys_health_consequence' : 'category',\n",
    "    'coworkers' : 'category',\n",
    "    'supervisor' : 'category',\n",
    "    'mental_health_interview' : 'category',\n",
    "    'phys_health_interview' : 'category',\n",
    "    'mental_vs_physical' : 'category',\n",
    "    'obs_consequence' : 'category',\n",
    "    'comments' : 'str'    \n",
    "}"
   ]
  },
  {
   "cell_type": "code",
   "execution_count": 3,
   "metadata": {},
   "outputs": [],
   "source": [
    "train_df = pd.read_csv('trainms.csv',dtype = dtypes)\n",
    "test_df = pd.read_csv('testms.csv',dtype = dtypes)\n",
    "samdf = pd.read_csv('samplems.csv', dtype=dtypes)\n",
    "test_df['treatment'] = samdf['treatment']"
   ]
  },
  {
   "cell_type": "code",
   "execution_count": 5,
   "metadata": {},
   "outputs": [
    {
     "name": "stdout",
     "output_type": "stream",
     "text": [
      "s.no                           0\n",
      "Timestamp                      0\n",
      "Age                            0\n",
      "Gender                         0\n",
      "Country                        0\n",
      "state                        400\n",
      "self_employed                 18\n",
      "family_history                 0\n",
      "treatment                      0\n",
      "work_interfere               226\n",
      "no_employees                   0\n",
      "remote_work                    0\n",
      "tech_company                   0\n",
      "benefits                       0\n",
      "care_options                   0\n",
      "wellness_program               0\n",
      "seek_help                      0\n",
      "anonymity                      0\n",
      "leave                          0\n",
      "mental_health_consequence      0\n",
      "phys_health_consequence        0\n",
      "coworkers                      0\n",
      "supervisor                     0\n",
      "mental_health_interview        0\n",
      "phys_health_interview          0\n",
      "mental_vs_physical             0\n",
      "obs_consequence                0\n",
      "comments                     873\n",
      "dtype: int64\n"
     ]
    }
   ],
   "source": [
    "print(train_df.isnull().sum())"
   ]
  },
  {
   "cell_type": "code",
   "execution_count": null,
   "metadata": {},
   "outputs": [],
   "source": [
    "train_df['state'] = train_df[]\n"
   ]
  },
  {
   "cell_type": "markdown",
   "metadata": {},
   "source": [
    "# Preprocessing and Cleaning"
   ]
  },
  {
   "cell_type": "code",
   "execution_count": 4,
   "metadata": {},
   "outputs": [
    {
     "name": "stderr",
     "output_type": "stream",
     "text": [
      "/home/joshyjoy/anaconda3/lib/python3.7/site-packages/ipykernel_launcher.py:2: FutureWarning: Sorting because non-concatenation axis is not aligned. A future version\n",
      "of pandas will change to not sort by default.\n",
      "\n",
      "To accept the future behavior, pass 'sort=False'.\n",
      "\n",
      "To retain the current behavior and silence the warning, pass 'sort=True'.\n",
      "\n",
      "  \n"
     ]
    }
   ],
   "source": [
    "frames = [train_df, test_df]\n",
    "result = pd.concat(frames)\n",
    "\n",
    "#Male\n",
    "result.loc[result['Gender'] == 'M','Gender'] = 'Male'\n",
    "result.loc[result['Gender'] == 'male','Gender'] = 'Male'\n",
    "result.loc[result['Gender'] == 'malr','Gender'] = 'Male'\n",
    "result.loc[result['Gender'] == 'Malr','Gender'] = 'Male'\n",
    "result.loc[result['Gender'] == 'mail','Gender'] = 'Male'\n",
    "result.loc[result['Gender'] == 'Mail','Gender'] = 'Male'\n",
    "result.loc[result['Gender'] == 'Male ','Gender'] = 'Male'\n",
    "result.loc[result['Gender'] == 'msle','Gender'] = 'Male'\n",
    "result.loc[result['Gender'] == 'm','Gender'] = 'Male'\n",
    "result.loc[result['Gender'] == 'maile','Gender'] = 'Male'\n",
    "result.loc[result['Gender'] == 'mal','Gender'] = 'Male'\n",
    "result.loc[result['Gender'] == 'Mal','Gender'] = 'Male'\n",
    "result.loc[result['Gender'] == 'Male-ish','Gender'] = 'Male'\n",
    "result.loc[result['Gender'] == 'ostensibly male, unsure what that really means','Gender'] = 'Male'\n",
    "result.loc[result['Gender'] == 'Cis Man','Gender'] = 'Male'\n",
    "result.loc[result['Gender'] == 'something kinda male?','Gender'] = 'Male'\n",
    "result.loc[result['Gender'] == 'make','Gender'] = 'Male'\n",
    "result.loc[result['Gender'] == 'Make','Gender'] = 'Male'\n",
    "result.loc[result['Gender'] == 'cis Man','Gender'] = 'Male'\n",
    "result.loc[result['Gender'] == 'Cis Male','Gender'] = 'Male'\n",
    "result.loc[result['Gender'] == 'cis Male','Gender'] = 'Male'\n",
    "result.loc[result['Gender'] == 'cis male','Gender'] = 'Male'\n",
    "result.loc[result['Gender'] == 'Man','Gender'] = 'Male'\n",
    "result.loc[result['Gender'] == 'man','Gender'] = 'Male'\n",
    "\n",
    "\n",
    "\n",
    "#Female\n",
    "result.loc[result['Gender'] == 'F','Gender'] = 'Female'\n",
    "result.loc[result['Gender'] == 'female','Gender'] = 'Female'\n",
    "result.loc[result['Gender'] == 'femail','Gender'] = 'Female'\n",
    "result.loc[result['Gender'] == 'Female ','Gender'] = 'Female'\n",
    "result.loc[result['Gender'] == 'f','Gender'] = 'Female'\n",
    "result.loc[result['Gender'] == 'Cis Female','Gender'] = 'Female'\n",
    "result.loc[result['Gender'] == 'Femake','Gender'] = 'Female'\n",
    "result.loc[result['Gender'] == 'cis-female/femme','Gender'] = 'Female'\n",
    "result.loc[result['Gender'] == 'Female (cis)','Gender'] = 'Female'\n",
    "result.loc[result['Gender'] == 'cis female','Gender'] = 'Female'\n",
    "result.loc[result['Gender'] == 'Woman','Gender'] = 'Female'\n",
    "result.loc[result['Gender'] == 'woman','Gender'] = 'Female'\n",
    "\n",
    "#Transgender\n",
    "result.loc[result['Gender'] == 'Trans woman','Gender'] = 'Transgender'\n",
    "result.loc[result['Gender'] == 'Female (trans)','Gender'] = 'Transgender'\n",
    "result.loc[result['Gender'] == 'Female (trans)','Gender'] = 'Transgender'\n",
    "result.loc[result['Gender'] == 'Trans-female','Gender'] = 'Transgender'\n",
    "\n",
    "\n",
    "#Others\n",
    "result.loc[result['Gender'] == 'non-binary','Gender'] = 'Others'\n",
    "result.loc[result['Gender'] == 'Nah','Gender'] = 'Others'\n",
    "result.loc[result['Gender'] == 'Enby','Gender'] = 'Others'\n",
    "result.loc[result['Gender'] == 'fluid','Gender'] = 'Others'\n",
    "result.loc[result['Gender'] == 'Genderqueer','Gender'] = 'Others'\n",
    "result.loc[result['Gender'] == 'Androgyne','Gender'] = 'Others'\n",
    "result.loc[result['Gender'] == 'Agender','Gender'] = 'Others'\n",
    "result.loc[result['Gender'] == 'Guy (-ish) ^_^','Gender'] = 'Others'\n",
    "result.loc[result['Gender'] == 'male leaning androgynous','Gender'] = 'Others'\n",
    "result.loc[result['Gender'] == 'Neuter','Gender'] = 'Others'\n",
    "result.loc[result['Gender'] == 'queer','Gender'] = 'Others'\n",
    "result.loc[result['Gender'] == 'A little about you','Gender'] = 'Others'\n",
    "result.loc[result['Gender'] == 'p','Gender'] = 'Others'\n"
   ]
  },
  {
   "cell_type": "markdown",
   "metadata": {},
   "source": [
    "# Feature Engineering and Selection"
   ]
  },
  {
   "cell_type": "code",
   "execution_count": 5,
   "metadata": {},
   "outputs": [
    {
     "data": {
      "text/plain": [
       "array(['Female', 'Male', 'Transgender', 'Others'], dtype=object)"
      ]
     },
     "execution_count": 5,
     "metadata": {},
     "output_type": "execute_result"
    }
   ],
   "source": [
    "result['Gender'].unique()"
   ]
  },
  {
   "cell_type": "code",
   "execution_count": 6,
   "metadata": {},
   "outputs": [],
   "source": [
    "df_sex = pd.get_dummies(result['Gender'])"
   ]
  },
  {
   "cell_type": "code",
   "execution_count": 20,
   "metadata": {},
   "outputs": [],
   "source": [
    "df_new = pd.concat([result, df_sex], axis=1)\n",
    "result['Male'] = df_new['Male']\n",
    "result['Female'] = df_new['Female']\n",
    "result['Transgender'] = df_new['Transgender']\n",
    "result['Others'] = df_new['Others']\n",
    "\n",
    "#1 Result - No cange in Accuracy"
   ]
  },
  {
   "cell_type": "code",
   "execution_count": 27,
   "metadata": {},
   "outputs": [
    {
     "data": {
      "text/plain": [
       "[6-25, More than 1000, 26-100, 100-500, 1-5, 500-1000]\n",
       "Categories (6, object): [6-25, More than 1000, 26-100, 100-500, 1-5, 500-1000]"
      ]
     },
     "execution_count": 27,
     "metadata": {},
     "output_type": "execute_result"
    }
   ],
   "source": [
    "result['no_employees'].unique()"
   ]
  },
  {
   "cell_type": "code",
   "execution_count": 52,
   "metadata": {},
   "outputs": [],
   "source": [
    "no_of_employees = pd.DataFrame()\n",
    "no_of_employees['no_employees_lower'] = \"\"\n",
    "no_of_employees['no_employees_upper'] = \"\""
   ]
  },
  {
   "cell_type": "markdown",
   "metadata": {},
   "source": [
    "# XgBoosting"
   ]
  },
  {
   "cell_type": "code",
   "execution_count": null,
   "metadata": {},
   "outputs": [],
   "source": []
  },
  {
   "cell_type": "markdown",
   "metadata": {},
   "source": [
    "# Data Combining"
   ]
  },
  {
   "cell_type": "code",
   "execution_count": 12,
   "metadata": {},
   "outputs": [],
   "source": [
    "data = result.loc[:,['s.no','Age','Male','Female','Transgender','Others']]\n",
    "\n",
    "data['Country'] = pd.factorize(result['Country'], sort=True)[0]\n",
    "#1 - change gender with dummy variables--> male,female,Transgender,Others\n",
    "data['Gender'] = pd.factorize(result['Gender'], sort=True)[0]\n",
    "\n",
    "data['Timestamp'] = pd.factorize(result['Timestamp'], sort=True)[0]\n",
    "data['anonymity'] = pd.factorize(result['anonymity'], sort=True)[0]\n",
    "data['benefits'] = pd.factorize(result['benefits'], sort=True)[0]\n",
    "data['care_options'] = pd.factorize(result['care_options'], sort=True)[0]\n",
    "data['comments'] = pd.factorize(result['comments'], sort=True)[0]\n",
    "data['coworkers'] = pd.factorize(result['coworkers'], sort=True)[0]\n",
    "data['family_history'] = pd.factorize(result['family_history'], sort=True)[0]\n",
    "data['leave'] = pd.factorize(result['leave'], sort=True)[0]\n",
    "data['mental_health_consequence'] = pd.factorize(result['mental_health_consequence'], sort=True)[0]\n",
    "data['mental_health_interview'] = pd.factorize(result['mental_health_interview'], sort=True)[0]\n",
    "data['mental_vs_physical'] = pd.factorize(result['mental_vs_physical'], sort=True)[0]\n",
    "data['no_employees'] = pd.factorize(result['no_employees'], sort=True)[0]\n",
    "data['obs_consequence'] = pd.factorize(result['obs_consequence'], sort=True)[0]\n",
    "data['phys_health_consequence'] = pd.factorize(result['phys_health_consequence'], sort=True)[0]\n",
    "data['phys_health_interview'] = pd.factorize(result['phys_health_interview'], sort=True)[0]\n",
    "data['remote_work'] = pd.factorize(result['remote_work'], sort=True)[0]\n",
    "data['seek_help'] = pd.factorize(result['seek_help'], sort=True)[0]\n",
    "data['self_employed'] = pd.factorize(result['self_employed'], sort=True)[0]\n",
    "data['state'] = pd.factorize(result['state'], sort=True)[0]\n",
    "data['supervisor'] = pd.factorize(result['supervisor'], sort=True)[0]\n",
    "data['tech_company'] = pd.factorize(result['tech_company'], sort=True)[0]\n",
    "data['treatment'] = pd.factorize(result['treatment'], sort=True)[0]\n",
    "data['wellness_program'] = pd.factorize(result['wellness_program'], sort=True)[0]\n",
    "data['work_interfere'] = pd.factorize(result['work_interfere'], sort=True)[0]\n",
    "\n",
    "\n"
   ]
  },
  {
   "cell_type": "code",
   "execution_count": 13,
   "metadata": {},
   "outputs": [],
   "source": [
    "treatment = data['treatment']\n",
    "y = treatment                    #treatment is the predicting class\n"
   ]
  },
  {
   "cell_type": "code",
   "execution_count": 14,
   "metadata": {},
   "outputs": [],
   "source": [
    "sno = data['s.no']\n",
    "age = data['Age']\n",
    "country = data['Country']\n",
    "\n",
    "Gender = data['Gender'] \n",
    "\n",
    "#1 - newly added dummy variable\n",
    "\n",
    "Male = data['Male']\n",
    "Female = data['Female']\n",
    "Transgender = data['Transgender']\n",
    "Others = data['Others']\n",
    "\n",
    "#--------------------------\n",
    "\n",
    "Timestamp = data['Timestamp']\n",
    "anonymity = data['anonymity'] \n",
    "benefits = data['benefits']\n",
    "care_options = data['care_options']\n",
    "comments = data['comments'] \n",
    "coworkers = data['coworkers']\n",
    "family_history = data['family_history'] \n",
    "leave = data['leave'] \n",
    "mental_health_consequence = data['mental_health_consequence']\n",
    "mental_health_interview = data['mental_health_interview'] \n",
    "mental_vs_physical = data['mental_vs_physical']\n",
    "no_employees = data['no_employees'] \n",
    "obs_consequence = data['obs_consequence'] \n",
    "phys_health_consequence = data['phys_health_consequence'] \n",
    "phys_health_interview = data['phys_health_interview'] \n",
    "remote_work = data['remote_work'] \n",
    "seek_help = data['seek_help'] \n",
    "self_employed = data['self_employed']\n",
    "state = data['state'] \n",
    "supervisor = data['supervisor'] \n",
    "tech_company = data['tech_company'] \n",
    "wellness_program = data['wellness_program'] \n",
    "work_interfere = data['work_interfere']"
   ]
  },
  {
   "cell_type": "code",
   "execution_count": 60,
   "metadata": {},
   "outputs": [],
   "source": [
    "x = np.column_stack((age,country,Male,Female,Transgender,Others,anonymity,benefits,care_options,family_history,leave,mental_health_consequence,mental_health_interview,mental_vs_physical,no_employees,obs_consequence,phys_health_consequence,phys_health_interview,remote_work,seek_help,self_employed,state,supervisor,tech_company,wellness_program,work_interfere))\n"
   ]
  },
  {
   "cell_type": "markdown",
   "metadata": {},
   "source": [
    "# Extra Tree Classifier"
   ]
  },
  {
   "cell_type": "code",
   "execution_count": 61,
   "metadata": {},
   "outputs": [
    {
     "name": "stdout",
     "output_type": "stream",
     "text": [
      "[0.06375254 0.04294011 0.01482228 0.0132228  0.00140516 0.00177135\n",
      " 0.02976905 0.03848532 0.03694941 0.04140848 0.04381097 0.03687616\n",
      " 0.01896481 0.03681017 0.04846855 0.02191013 0.02860233 0.03812575\n",
      " 0.0323571  0.0315858  0.01829243 0.04478845 0.03801026 0.02241535\n",
      " 0.03363707 0.22081817]\n"
     ]
    }
   ],
   "source": [
    "etc_model = ExtraTreesClassifier(n_estimators=10)\n",
    "etc_model.fit(x, y)\n",
    "print(etc_model.feature_importances_)"
   ]
  },
  {
   "cell_type": "markdown",
   "metadata": {},
   "source": [
    "# Model Training"
   ]
  },
  {
   "cell_type": "code",
   "execution_count": 26,
   "metadata": {},
   "outputs": [
    {
     "name": "stdout",
     "output_type": "stream",
     "text": [
      "Training set score: 0.827\n",
      "Test set score: 0.436\n"
     ]
    },
    {
     "name": "stderr",
     "output_type": "stream",
     "text": [
      "/home/joshyjoy/anaconda3/lib/python3.7/site-packages/sklearn/linear_model/logistic.py:433: FutureWarning: Default solver will be changed to 'lbfgs' in 0.22. Specify a solver to silence this warning.\n",
      "  FutureWarning)\n"
     ]
    }
   ],
   "source": [
    "x1_train = x[:len(train_df)]\n",
    "x1_test = x[len(train_df):]\n",
    "y1_train = y[:len(train_df)]\n",
    "y1_test = y[len(train_df):]\n",
    "\n",
    "\n",
    "logreg = LogisticRegression().fit(x1_train,y1_train)\n",
    "\n",
    "print(\"Training set score: {:.3f}\".format(logreg.score(x1_train,y1_train)))\n",
    "print(\"Test set score: {:.3f}\".format(logreg.score(x1_test,y1_test)))"
   ]
  },
  {
   "cell_type": "code",
   "execution_count": 31,
   "metadata": {},
   "outputs": [
    {
     "data": {
      "text/plain": [
       "array([1, 1, 1, 1, 1, 0, 1, 0, 1, 0, 0, 0, 1, 1, 1, 0, 0, 0, 1, 1, 0, 1,\n",
       "       0, 0, 1, 1, 0, 1, 1, 0, 0, 1, 1, 1, 0, 1, 1, 0, 1, 0, 1, 0, 1, 1,\n",
       "       1, 1, 1, 1, 1, 1, 1, 1, 0, 0, 0, 1, 0, 0, 1, 1, 0, 1, 0, 0, 1, 1,\n",
       "       0, 0, 0, 0, 1, 1, 1, 0, 1, 1, 1, 1, 1, 1, 1, 0, 1, 1, 1, 0, 1, 0,\n",
       "       1, 1, 0, 1, 1, 1, 1, 1, 1, 1, 0, 0, 0, 1, 1, 1, 0, 0, 1, 1, 1, 0,\n",
       "       1, 0, 0, 1, 0, 1, 0, 1, 1, 0, 1, 1, 0, 1, 0, 1, 1, 1, 1, 0, 1, 0,\n",
       "       1, 1, 1, 1, 1, 0, 1, 1, 0, 1, 1, 1, 0, 1, 1, 1, 1, 0, 1, 0, 1, 1,\n",
       "       0, 0, 0, 0, 1, 0, 1, 0, 0, 1, 1, 1, 1, 0, 0, 1, 0, 0, 1, 1, 0, 0,\n",
       "       1, 0, 1, 1, 1, 1, 1, 1, 0, 0, 1, 1, 0, 1, 1, 1, 0, 0, 0, 1, 0, 0,\n",
       "       0, 0, 0, 1, 0, 0, 0, 0, 1, 1, 1, 1, 0, 0, 1, 1, 1, 0, 0, 0, 0, 1,\n",
       "       0, 1, 1, 0, 1, 1, 0, 1, 1, 0, 1, 1, 1, 1, 1, 0, 0, 1, 1, 1, 1, 0,\n",
       "       0, 1, 0, 1, 0, 0, 1, 1, 0, 1, 1, 1, 0, 1, 1, 0, 1])"
      ]
     },
     "execution_count": 31,
     "metadata": {},
     "output_type": "execute_result"
    }
   ],
   "source": [
    "logreg.predict(x1_test)"
   ]
  },
  {
   "cell_type": "markdown",
   "metadata": {},
   "source": [
    "# XGBoost Classifier"
   ]
  },
  {
   "cell_type": "code",
   "execution_count": 45,
   "metadata": {
    "scrolled": true
   },
   "outputs": [
    {
     "data": {
      "text/plain": [
       "array([1, 1, 1, 1, 1, 0, 1, 1, 1, 0, 0, 0, 1, 1, 1, 0, 0, 1, 1, 1, 0, 1,\n",
       "       0, 0, 1, 1, 0, 1, 0, 0, 0, 1, 1, 1, 0, 1, 1, 0, 1, 0, 1, 0, 1, 1,\n",
       "       1, 1, 1, 1, 1, 1, 1, 1, 1, 0, 0, 1, 0, 0, 1, 1, 1, 1, 0, 0, 1, 1,\n",
       "       0, 0, 0, 0, 1, 1, 1, 0, 1, 1, 1, 1, 1, 0, 1, 1, 1, 1, 1, 0, 1, 0,\n",
       "       1, 1, 0, 0, 1, 1, 1, 1, 1, 1, 0, 0, 0, 1, 1, 1, 0, 1, 1, 1, 1, 0,\n",
       "       1, 1, 0, 1, 0, 1, 0, 1, 1, 0, 1, 1, 0, 1, 0, 1, 1, 1, 1, 0, 1, 0,\n",
       "       1, 1, 1, 1, 1, 0, 1, 1, 1, 1, 0, 0, 0, 1, 1, 1, 1, 1, 1, 0, 1, 1,\n",
       "       1, 0, 0, 0, 1, 0, 1, 0, 0, 1, 1, 1, 1, 0, 0, 1, 0, 0, 1, 1, 0, 0,\n",
       "       1, 0, 1, 0, 1, 1, 1, 1, 1, 0, 1, 1, 0, 1, 1, 1, 0, 0, 0, 1, 1, 0,\n",
       "       1, 0, 0, 1, 0, 0, 0, 0, 1, 1, 1, 1, 0, 0, 1, 0, 1, 0, 0, 0, 0, 1,\n",
       "       1, 1, 1, 0, 1, 0, 0, 1, 1, 0, 1, 1, 1, 1, 1, 1, 1, 1, 1, 0, 1, 0,\n",
       "       0, 1, 0, 1, 0, 1, 1, 1, 1, 1, 1, 1, 0, 1, 1, 0, 1])"
      ]
     },
     "execution_count": 45,
     "metadata": {},
     "output_type": "execute_result"
    }
   ],
   "source": [
    "xgb = XGBClassifier()\n",
    "\n",
    "xgb.fit(x1_train,y1_train)\n",
    "\n",
    "xbg_y_pred = xgb.predict(x1_test)\n",
    "\n",
    "xbg_y_pred"
   ]
  },
  {
   "cell_type": "markdown",
   "metadata": {},
   "source": [
    "# Neural Network"
   ]
  },
  {
   "cell_type": "code",
   "execution_count": 65,
   "metadata": {},
   "outputs": [
    {
     "ename": "SyntaxError",
     "evalue": "invalid syntax (<ipython-input-65-10f39714cf13>, line 12)",
     "output_type": "error",
     "traceback": [
      "\u001b[0;36m  File \u001b[0;32m\"<ipython-input-65-10f39714cf13>\"\u001b[0;36m, line \u001b[0;32m12\u001b[0m\n\u001b[0;31m    model.compile(optimizer='sgd',loss='binary_crossentropy',metrics=['accuracy'])\u001b[0m\n\u001b[0m        ^\u001b[0m\n\u001b[0;31mSyntaxError\u001b[0m\u001b[0;31m:\u001b[0m invalid syntax\n"
     ]
    }
   ],
   "source": [
    "x_train = x1_train[:800]\n",
    "y_train = y1_train[:800]\n",
    "\n",
    "x_val = x1_train[800:]\n",
    "y_val = y1_train[800:]\n",
    "\n",
    "model = Sequential()\n",
    "\n",
    "model.add(Dense(2,activation='softmax',kernel_regularizer=L1L2(l1=0.0, l2=0.1),input_dim=26)\n",
    "          \n",
    "          \n",
    "model.compile(optimizer='sgd',loss='binary_crossentropy',metrics=['accuracy'])       \n",
    "          \n",
    "          \n",
    "model.fit(x_train, y_train, epochs=100, validation_data=(x_val, y_val))"
   ]
  },
  {
   "cell_type": "code",
   "execution_count": null,
   "metadata": {},
   "outputs": [],
   "source": []
  }
 ],
 "metadata": {
  "kernelspec": {
   "display_name": "Python 3",
   "language": "python",
   "name": "python3"
  },
  "language_info": {
   "codemirror_mode": {
    "name": "ipython",
    "version": 3
   },
   "file_extension": ".py",
   "mimetype": "text/x-python",
   "name": "python",
   "nbconvert_exporter": "python",
   "pygments_lexer": "ipython3",
   "version": "3.7.4"
  }
 },
 "nbformat": 4,
 "nbformat_minor": 2
}
