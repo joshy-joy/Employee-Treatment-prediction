{
 "cells": [
  {
   "cell_type": "code",
   "execution_count": 93,
   "metadata": {},
   "outputs": [],
   "source": [
    "import os \n",
    "import csv \n",
    "import random\n",
    "import statsmodels.api as sm\n",
    "import statsmodels.formula.api as smf\n",
    "\n",
    "import numpy as np\n",
    "import pandas as pd\n",
    "\n",
    "from sklearn.model_selection import train_test_split\n",
    "from sklearn.model_selection import cross_val_score\n",
    "from sklearn.linear_model import LogisticRegression\n",
    "from sklearn.ensemble import ExtraTreesClassifier\n",
    "from sklearn.preprocessing import MinMaxScaler  \n",
    "\n",
    "from sklearn.feature_selection import SelectKBest\n",
    "from sklearn.feature_selection import chi2\n",
    "\n",
    "from sklearn.svm import SVC \n",
    "from sklearn.metrics import accuracy_score\n",
    "\n",
    "from sklearn.tree import DecisionTreeClassifier \n"
   ]
  },
  {
   "cell_type": "code",
   "execution_count": 94,
   "metadata": {},
   "outputs": [],
   "source": [
    "dtypes = {\n",
    "    's.no':'int64',\n",
    "    'Timestamp':'object',\n",
    "    'Age' : 'float64',\n",
    "    'Gender' : 'category',\n",
    "    'Country' : 'category',\n",
    "    'state' : 'category',\n",
    "    'self_employed' : 'category',\n",
    "    'family_history' : 'category',\n",
    "    'treatment' : 'category',\n",
    "    'work_interfere' : 'category',\n",
    "    'no_employees' : 'category',\n",
    "    'remote_work' : 'category',\n",
    "    'tech_company' : 'category',\n",
    "    'benefits' : 'category',\n",
    "    'care_options' : 'category',\n",
    "    'wellness_program' : 'category',\n",
    "    'seek_help' : 'category',\n",
    "    'anonymity' : 'category',\n",
    "    'leave' : 'category',\n",
    "    'mental_health_consequence' : 'category',\n",
    "    'phys_health_consequence' : 'category',\n",
    "    'coworkers' : 'category',\n",
    "    'supervisor' : 'category',\n",
    "    'mental_health_interview' : 'category',\n",
    "    'phys_health_interview' : 'category',\n",
    "    'mental_vs_physical' : 'category',\n",
    "    'obs_consequence' : 'category',\n",
    "    'comments' : 'str',    \n",
    "}"
   ]
  },
  {
   "cell_type": "markdown",
   "metadata": {},
   "source": [
    "# Importing Data"
   ]
  },
  {
   "cell_type": "code",
   "execution_count": 115,
   "metadata": {},
   "outputs": [],
   "source": [
    "train_df = pd.read_csv('trainms.csv',dtype = dtypes)\n",
    "test_df = pd.read_csv('testms.csv',dtype = dtypes)\n",
    "samdf = pd.read_csv('samplems.csv', dtype=dtypes)\n",
    "test_df['treatment'] = samdf['treatment']"
   ]
  },
  {
   "cell_type": "markdown",
   "metadata": {},
   "source": [
    "# Data Preprocessing"
   ]
  },
  {
   "cell_type": "code",
   "execution_count": 116,
   "metadata": {},
   "outputs": [
    {
     "name": "stderr",
     "output_type": "stream",
     "text": [
      "/home/joshyjoy/anaconda3/lib/python3.7/site-packages/ipykernel_launcher.py:2: FutureWarning: Sorting because non-concatenation axis is not aligned. A future version\n",
      "of pandas will change to not sort by default.\n",
      "\n",
      "To accept the future behavior, pass 'sort=False'.\n",
      "\n",
      "To retain the current behavior and silence the warning, pass 'sort=True'.\n",
      "\n",
      "  \n"
     ]
    }
   ],
   "source": [
    "frames = [train_df, test_df]\n",
    "result = pd.concat(frames)\n",
    "\n",
    "#Male\n",
    "result.loc[result['Gender'] == 'M','Gender'] = 'Male'\n",
    "result.loc[result['Gender'] == 'male','Gender'] = 'Male'\n",
    "result.loc[result['Gender'] == 'msle','Gender'] = 'Male'\n",
    "result.loc[result['Gender'] == 'm','Gender'] = 'Male'\n",
    "result.loc[result['Gender'] == 'maile','Gender'] = 'Male'\n",
    "result.loc[result['Gender'] == 'mal','Gender'] = 'Male'\n",
    "result.loc[result['Gender'] == 'Male-ish','Gender'] = 'Male'\n",
    "result.loc[result['Gender'] == 'ostensibly male, unsure what that really means','Gender'] = 'Male'\n",
    "result.loc[result['Gender'] == 'Cis Man','Gender'] = 'Male'\n",
    "result.loc[result['Gender'] == 'something kinda male?','Gender'] = 'Male'\n",
    "result.loc[result['Gender'] == 'make','Gender'] = 'Male'\n",
    "result.loc[result['Gender'] == 'Make','Gender'] = 'Male'\n",
    "result.loc[result['Gender'] == 'cis Man','Gender'] = 'Male'\n",
    "result.loc[result['Gender'] == 'Cis Male','Gender'] = 'Male'\n",
    "result.loc[result['Gender'] == 'cis Male','Gender'] = 'Male'\n",
    "result.loc[result['Gender'] == 'cis male','Gender'] = 'Male'\n",
    "result.loc[result['Gender'] == 'Man','Gender'] = 'Male'\n",
    "result.loc[result['Gender'] == 'man','Gender'] = 'Male'\n",
    "\n",
    "\n",
    "\n",
    "#Female\n",
    "result.loc[result['Gender'] == 'F','Gender'] = 'Female'\n",
    "result.loc[result['Gender'] == 'female','Gender'] = 'Female'\n",
    "result.loc[result['Gender'] == 'f','Gender'] = 'Female'\n",
    "result.loc[result['Gender'] == 'Cis Female','Gender'] = 'Female'\n",
    "result.loc[result['Gender'] == 'Femake','Gender'] = 'Female'\n",
    "result.loc[result['Gender'] == 'cis-female/femme','Gender'] = 'Female'\n",
    "result.loc[result['Gender'] == 'Female (cis)','Gender'] = 'Female'\n",
    "result.loc[result['Gender'] == 'cis female','Gender'] = 'Female'\n",
    "result.loc[result['Gender'] == 'Woman','Gender'] = 'Female'\n",
    "\n",
    "#Transgender\n",
    "result.loc[result['Gender'] == 'Trans woman','Gender'] = 'Transgender'\n",
    "result.loc[result['Gender'] == 'Female (trans)','Gender'] = 'Transgender'\n",
    "result.loc[result['Gender'] == 'Female (trans)','Gender'] = 'Transgender'\n",
    "result.loc[result['Gender'] == 'Trans-female','Gender'] = 'Transgender'\n",
    "\n",
    "\n",
    "#Others\n",
    "result.loc[result['Gender'] == 'non-binary','Gender'] = 'Others'\n",
    "result.loc[result['Gender'] == 'Nah','Gender'] = 'Others'\n",
    "result.loc[result['Gender'] == 'Enby','Gender'] = 'Others'\n",
    "result.loc[result['Gender'] == 'fluid','Gender'] = 'Others'\n",
    "result.loc[result['Gender'] == 'Genderqueer','Gender'] = 'Others'\n",
    "result.loc[result['Gender'] == 'Androgyne','Gender'] = 'Others'\n",
    "result.loc[result['Gender'] == 'Agender','Gender'] = 'Others'\n",
    "result.loc[result['Gender'] == 'Guy (-ish) ^_^','Gender'] = 'Others'\n",
    "result.loc[result['Gender'] == 'male leaning androgynous','Gender'] = 'Others'\n",
    "result.loc[result['Gender'] == 'Neuter','Gender'] = 'Others'\n",
    "result.loc[result['Gender'] == 'queer','Gender'] = 'Others'\n",
    "result.loc[result['Gender'] == 'A little about you','Gender'] = 'Others'\n",
    "result.loc[result['Gender'] == 'p','Gender'] = 'Others'\n"
   ]
  },
  {
   "cell_type": "markdown",
   "metadata": {},
   "source": [
    "# Data Stacking"
   ]
  },
  {
   "cell_type": "code",
   "execution_count": 117,
   "metadata": {},
   "outputs": [],
   "source": [
    "data = result.loc[:,['s.no','Age']]\n",
    "\n",
    "data['Country'] = pd.factorize(result['Country'], sort=True)[0]\n",
    "data['Gender'] = pd.factorize(result['Gender'], sort=True)[0]\n",
    "data['Timestamp'] = pd.factorize(result['Timestamp'], sort=True)[0]\n",
    "data['anonymity'] = pd.factorize(result['anonymity'], sort=True)[0]\n",
    "data['benefits'] = pd.factorize(result['benefits'], sort=True)[0]\n",
    "data['care_options'] = pd.factorize(result['care_options'], sort=True)[0]\n",
    "data['comments'] = pd.factorize(result['comments'], sort=True)[0]\n",
    "data['coworkers'] = pd.factorize(result['coworkers'], sort=True)[0]\n",
    "data['family_history'] = pd.factorize(result['family_history'], sort=True)[0]\n",
    "data['leave'] = pd.factorize(result['leave'], sort=True)[0]\n",
    "data['mental_health_consequence'] = pd.factorize(result['mental_health_consequence'], sort=True)[0]\n",
    "data['mental_health_interview'] = pd.factorize(result['mental_health_interview'], sort=True)[0]\n",
    "data['mental_vs_physical'] = pd.factorize(result['mental_vs_physical'], sort=True)[0]\n",
    "data['no_employees'] = pd.factorize(result['no_employees'], sort=True)[0]\n",
    "data['obs_consequence'] = pd.factorize(result['obs_consequence'], sort=True)[0]\n",
    "data['phys_health_consequence'] = pd.factorize(result['phys_health_consequence'], sort=True)[0]\n",
    "data['phys_health_interview'] = pd.factorize(result['phys_health_interview'], sort=True)[0]\n",
    "data['remote_work'] = pd.factorize(result['remote_work'], sort=True)[0]\n",
    "data['seek_help'] = pd.factorize(result['seek_help'], sort=True)[0]\n",
    "data['self_employed'] = pd.factorize(result['self_employed'], sort=True)[0]\n",
    "data['state'] = pd.factorize(result['state'], sort=True)[0]\n",
    "data['supervisor'] = pd.factorize(result['supervisor'], sort=True)[0]\n",
    "data['tech_company'] = pd.factorize(result['tech_company'], sort=True)[0]\n",
    "data['treatment'] = pd.factorize(result['treatment'], sort=True)[0]\n",
    "data['wellness_program'] = pd.factorize(result['wellness_program'], sort=True)[0]\n",
    "data['work_interfere'] = pd.factorize(result['work_interfere'], sort=True)[0]\n",
    "\n",
    "\n"
   ]
  },
  {
   "cell_type": "code",
   "execution_count": 118,
   "metadata": {},
   "outputs": [],
   "source": [
    "treatment = data['treatment']\n",
    "y = treatment                    #treatment is the predicting class\n"
   ]
  },
  {
   "cell_type": "code",
   "execution_count": 119,
   "metadata": {},
   "outputs": [],
   "source": [
    "sno = data['s.no']\n",
    "age = data['Age']\n",
    "country = data['Country']\n",
    "Gender = data['Gender'] \n",
    "Timestamp = data['Timestamp']\n",
    "anonymity = data['anonymity'] \n",
    "benefits = data['benefits']\n",
    "care_options = data['care_options']\n",
    "comments = data['comments'] \n",
    "coworkers = data['coworkers']\n",
    "family_history = data['family_history'] \n",
    "leave = data['leave'] \n",
    "mental_health_consequence = data['mental_health_consequence']\n",
    "mental_health_interview = data['mental_health_interview'] \n",
    "mental_vs_physical = data['mental_vs_physical']\n",
    "no_employees = data['no_employees'] \n",
    "obs_consequence = data['obs_consequence'] \n",
    "phys_health_consequence = data['phys_health_consequence'] \n",
    "phys_health_interview = data['phys_health_interview'] \n",
    "remote_work = data['remote_work'] \n",
    "seek_help = data['seek_help'] \n",
    "self_employed = data['self_employed']\n",
    "state = data['state'] \n",
    "supervisor = data['supervisor'] \n",
    "tech_company = data['tech_company'] \n",
    "wellness_program = data['wellness_program'] \n",
    "work_interfere = data['work_interfere']"
   ]
  },
  {
   "cell_type": "code",
   "execution_count": 120,
   "metadata": {},
   "outputs": [],
   "source": [
    "x = np.column_stack((age,country,Gender,Timestamp,anonymity,benefits,care_options,coworkers,family_history,leave,mental_health_consequence,mental_health_interview,mental_vs_physical,no_employees,obs_consequence,phys_health_consequence,phys_health_interview,remote_work,seek_help,self_employed,state,supervisor,tech_company,wellness_program,work_interfere))\n"
   ]
  },
  {
   "cell_type": "markdown",
   "metadata": {},
   "source": [
    "# Model Training"
   ]
  },
  {
   "cell_type": "code",
   "execution_count": 121,
   "metadata": {},
   "outputs": [
    {
     "name": "stdout",
     "output_type": "stream",
     "text": [
      "[0.05176119 0.03509247 0.02263754 0.09460576 0.02522961 0.03182027\n",
      " 0.03624065 0.0313689  0.06148293 0.03626774 0.03679671 0.01520048\n",
      " 0.03173112 0.03820893 0.02041769 0.02874327 0.03324063 0.02496846\n",
      " 0.02820681 0.01594751 0.03478054 0.02645434 0.01906991 0.02877961\n",
      " 0.19094692]\n"
     ]
    }
   ],
   "source": [
    "etc_model = ExtraTreesClassifier(n_estimators=10)\n",
    "etc_model.fit(x, y)\n",
    "print(etc_model.feature_importances_)"
   ]
  },
  {
   "cell_type": "code",
   "execution_count": 122,
   "metadata": {},
   "outputs": [
    {
     "name": "stdout",
     "output_type": "stream",
     "text": [
      "Training set score: 0.831\n",
      "Test set score: 0.429\n"
     ]
    },
    {
     "name": "stderr",
     "output_type": "stream",
     "text": [
      "/home/joshyjoy/anaconda3/lib/python3.7/site-packages/sklearn/linear_model/logistic.py:433: FutureWarning: Default solver will be changed to 'lbfgs' in 0.22. Specify a solver to silence this warning.\n",
      "  FutureWarning)\n"
     ]
    }
   ],
   "source": [
    "x1_train = x[:len(train_df)]\n",
    "x1_test = x[len(train_df):]\n",
    "y1_train = y[:len(train_df)]\n",
    "y1_test = y[len(train_df):]\n",
    "\n",
    "\n",
    "logreg = LogisticRegression().fit(x1_train,y1_train)\n",
    "\n",
    "print(\"Training set score: {:.3f}\".format(logreg.score(x1_train,y1_train)))\n",
    "print(\"Test set score: {:.3f}\".format(logreg.score(x1_test,y1_test)))"
   ]
  },
  {
   "cell_type": "code",
   "execution_count": null,
   "metadata": {},
   "outputs": [],
   "source": []
  }
 ],
 "metadata": {
  "kernelspec": {
   "display_name": "Python 3",
   "language": "python",
   "name": "python3"
  },
  "language_info": {
   "codemirror_mode": {
    "name": "ipython",
    "version": 3
   },
   "file_extension": ".py",
   "mimetype": "text/x-python",
   "name": "python",
   "nbconvert_exporter": "python",
   "pygments_lexer": "ipython3",
   "version": "3.7.1"
  }
 },
 "nbformat": 4,
 "nbformat_minor": 2
}
